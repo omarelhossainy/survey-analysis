{
  "metadata": {
    "kernelspec": {
      "name": "python",
      "display_name": "Python (Pyodide)",
      "language": "python"
    },
    "language_info": {
      "name": ""
    }
  },
  "nbformat_minor": 4,
  "nbformat": 4,
  "cells": [
    {
      "cell_type": "code",
      "source": "import pandas as pd\nimport matplotlib.pyplot as plt\n\n\ndata = pd.read_csv(\"projct1 (Responses).csv\")\n\n# Question 1: Histogram for Question 1 responses\nplt.figure(figsize=(8, 6))\nplt.hist(data['Question 1'], bins=5, edgecolor='black')\nplt.title('Histogram of Responses for Question 1')\nplt.xlabel('Response')\nplt.ylabel('Frequency')\nplt.show()\n\n# Question 2: Bar chart for Question 2 responses\nplt.figure(figsize=(8, 6))\ndata['Question 2'].value_counts().plot(kind='bar', color='skyblue')\nplt.title('Bar Chart of Responses for Question 2')\nplt.xlabel('Response')\nplt.ylabel('Frequency')\nplt.show()\n\n# Question 3: Pie chart for Question 3 responses\nplt.figure(figsize=(8, 6))\ndata['Question 3'].value_counts().plot(kind='pie', autopct='%1.1f%%', colors=['lightcoral', 'lightskyblue', 'lightgreen'])\nplt.title('Pie Chart of Responses for Question 3')\nplt.ylabel('')\nplt.show()\n\n# Question 4: Box plot for Question 4 responses\nplt.figure(figsize=(8, 6))\nplt.boxplot(data['Question 4'])\nplt.title('Box Plot of Responses for Question 4')\nplt.ylabel('Response')\nplt.show()\n\n# Question 5: Line plot for Question 5 responses\nplt.figure(figsize=(8, 6))\ndata['Question 5'].value_counts().sort_index().plot(kind='line', marker='o', color='orange')\nplt.title('Line Plot of Responses for Question 5')\nplt.xlabel('Response')\nplt.ylabel('Frequency')\nplt.show()\n",
      "metadata": {
        "trusted": true
      },
      "outputs": [],
      "execution_count": null
    },
    {
      "cell_type": "code",
      "source": "",
      "metadata": {
        "trusted": true
      },
      "outputs": [],
      "execution_count": null
    }
  ]
}